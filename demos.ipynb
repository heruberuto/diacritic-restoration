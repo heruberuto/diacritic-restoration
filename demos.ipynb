{
 "cells": [
  {
   "cell_type": "markdown",
   "metadata": {},
   "source": [
    "# Diacritics restoration demos\n",
    "\n",
    "## Modules import"
   ]
  },
  {
   "cell_type": "code",
   "execution_count": 2,
   "metadata": {},
   "outputs": [
    {
     "name": "stdout",
     "output_type": "stream",
     "text": [
      "ready.\n"
     ]
    }
   ],
   "source": [
    "import diacritic_restorer as dr\n",
    "import accents\n",
    "print(\"ready.\")"
   ]
  },
  {
   "cell_type": "markdown",
   "metadata": {},
   "source": [
    "## Training"
   ]
  },
  {
   "cell_type": "code",
   "execution_count": null,
   "metadata": {},
   "outputs": [],
   "source": []
  },
  {
   "cell_type": "markdown",
   "metadata": {},
   "source": [
    "## Use a pretrained HMM on a custom sentence\n",
    "### Irish Gaellic"
   ]
  },
  {
   "cell_type": "code",
   "execution_count": 70,
   "metadata": {},
   "outputs": [
    {
     "name": "stdout",
     "output_type": "stream",
     "text": [
      "ready.\n"
     ]
    }
   ],
   "source": [
    "hmm = dr.HmmNgramRestorer.load(\"pretrained/ga/8-gram.pickle\")\n",
    "print(\"ready.\")"
   ]
  },
  {
   "cell_type": "code",
   "execution_count": 71,
   "metadata": {},
   "outputs": [
    {
     "data": {
      "text/plain": [
       "'ba éarnail thabhachtach den gheilleagar e an mhianadoireacht.'"
      ]
     },
     "execution_count": 71,
     "metadata": {},
     "output_type": "execute_result"
    }
   ],
   "source": [
    "hmm.restore_accents(\"ba earnail thabhachtach den gheilleagar e an mhianadoireacht.\")"
   ]
  },
  {
   "cell_type": "code",
   "execution_count": 73,
   "metadata": {},
   "outputs": [
    {
     "data": {
      "text/plain": [
       "'bhí sé go tréan ag cur catha ar a chomharsana san oirthear.'"
      ]
     },
     "execution_count": 73,
     "metadata": {},
     "output_type": "execute_result"
    }
   ],
   "source": [
    "hmm.restore_accents(accents.strip(\"bhí sé go tréan ag cur catha ar a chomharsana san oirthear.\"))"
   ]
  },
  {
   "cell_type": "markdown",
   "metadata": {},
   "source": [
    "### Czech"
   ]
  },
  {
   "cell_type": "code",
   "execution_count": 3,
   "metadata": {},
   "outputs": [
    {
     "name": "stdout",
     "output_type": "stream",
     "text": [
      "ready.\n"
     ]
    }
   ],
   "source": [
    "hmm = dr.HmmNgramRestorer.load(\"pretrained/cs/6-gram.pickle\")\n",
    "print(\"ready.\")"
   ]
  },
  {
   "cell_type": "code",
   "execution_count": 26,
   "metadata": {},
   "outputs": [
    {
     "data": {
      "text/plain": [
       "'velmi tmavý povrch komet jim dovoluje absorbovat teplo potřebné na jejích odplynování.'"
      ]
     },
     "execution_count": 26,
     "metadata": {},
     "output_type": "execute_result"
    }
   ],
   "source": [
    "hmm.restore_accents(accents.strip('velmi tmavý povrch komet jim dovoluje absorbovat teplo potřebné na jejich odplynování.'))"
   ]
  },
  {
   "cell_type": "code",
   "execution_count": 20,
   "metadata": {},
   "outputs": [
    {
     "data": {
      "text/plain": [
       "'další významně pozorovaní kometarního rozpadu byl dopad komety shoemaker-levy 9, pozorovany roku 1993.'"
      ]
     },
     "execution_count": 20,
     "metadata": {},
     "output_type": "execute_result"
    }
   ],
   "source": [
    "hmm.restore_accents(\"dalsi vyznamne pozorovani kometarniho rozpadu byl dopad komety shoemaker-levy 9, pozorovany roku 1993.\")"
   ]
  },
  {
   "cell_type": "code",
   "execution_count": 30,
   "metadata": {},
   "outputs": [
    {
     "data": {
      "text/plain": [
       "'součástí rekonstrukce nato po studené válce byla reorganizace jeji vojenské struktury.'"
      ]
     },
     "execution_count": 30,
     "metadata": {},
     "output_type": "execute_result"
    }
   ],
   "source": [
    "hmm.restore_accents(\"soucasti rekonstrukce nato po studene valce byla reorganizace jeji vojenske struktury.\")"
   ]
  },
  {
   "cell_type": "markdown",
   "metadata": {},
   "source": [
    "### Slovakian"
   ]
  },
  {
   "cell_type": "code",
   "execution_count": 74,
   "metadata": {
    "scrolled": true
   },
   "outputs": [
    {
     "name": "stdout",
     "output_type": "stream",
     "text": [
      "ready.\n"
     ]
    }
   ],
   "source": [
    "hmm = dr.HmmNgramRestorer.load(\"pretrained/sk/6-gram.pickle\")\n",
    "print(\"ready.\")"
   ]
  },
  {
   "cell_type": "code",
   "execution_count": 75,
   "metadata": {},
   "outputs": [
    {
     "data": {
      "text/plain": [
       "'j. lenoir skonštruoval v roku 1860 dvojtaktný dvojčinný posuvačový motor na svietiplyn.'"
      ]
     },
     "execution_count": 75,
     "metadata": {},
     "output_type": "execute_result"
    }
   ],
   "source": [
    "hmm.restore_accents(accents.strip(\"j. lenoir skonštruoval v roku 1860 dvojtaktný dvojčinný posúvačový motor na svietiplyn.\"))"
   ]
  },
  {
   "cell_type": "markdown",
   "metadata": {},
   "source": [
    "## Hungarian"
   ]
  },
  {
   "cell_type": "code",
   "execution_count": 5,
   "metadata": {},
   "outputs": [
    {
     "name": "stdout",
     "output_type": "stream",
     "text": [
      "ready.\n"
     ]
    }
   ],
   "source": [
    "hmm_hu = dr.HmmNgramRestorer.load(\"pretrained/hu/6-gram.pickle\")\n",
    "print(\"ready.\")"
   ]
  },
  {
   "cell_type": "code",
   "execution_count": 8,
   "metadata": {},
   "outputs": [
    {
     "data": {
      "text/plain": [
       "'alexiosz igéretet tett rá, hogy fedezi az egyiptomba induló kéresztésék költségeit, ha eluzik bitorló nagybátyjat.'"
      ]
     },
     "execution_count": 8,
     "metadata": {},
     "output_type": "execute_result"
    }
   ],
   "source": [
    "hmm_hu.restore_accents(accents.strip(\"alexiosz ígéretet tett rá, hogy fedezi az egyiptomba induló keresztesek költségeit, ha elűzik bitorló nagybátyját.\"))"
   ]
  },
  {
   "cell_type": "markdown",
   "metadata": {},
   "source": [
    "## French"
   ]
  },
  {
   "cell_type": "code",
   "execution_count": 4,
   "metadata": {},
   "outputs": [
    {
     "name": "stdout",
     "output_type": "stream",
     "text": [
      "ready.\n"
     ]
    }
   ],
   "source": [
    "hmm = dr.HmmNgramRestorer.load(\"pretrained/fr/4-gram.pickle\")\n",
    "print(\"ready.\")"
   ]
  },
  {
   "cell_type": "code",
   "execution_count": 61,
   "metadata": {},
   "outputs": [
    {
     "data": {
      "text/plain": [
       "'les conditions metéorologiques sont très mauvaises entre avril 1315 et avril 1316.'"
      ]
     },
     "execution_count": 61,
     "metadata": {},
     "output_type": "execute_result"
    }
   ],
   "source": [
    "hmm.restore_accents(accents.strip(\"les conditions météorologiques sont très mauvaises entre avril 1315 et avril 1316.\"))"
   ]
  },
  {
   "cell_type": "markdown",
   "metadata": {},
   "source": [
    "### Spanish"
   ]
  },
  {
   "cell_type": "code",
   "execution_count": 63,
   "metadata": {},
   "outputs": [
    {
     "name": "stdout",
     "output_type": "stream",
     "text": [
      "ready.\n"
     ]
    }
   ],
   "source": [
    "language,n = \"es\",2\n",
    "hmm = dr.HmmNgramRestorer.load(\"pretrained/es/2-gram.pickle\")\n",
    "print(\"ready.\")"
   ]
  },
  {
   "cell_type": "code",
   "execution_count": 69,
   "metadata": {},
   "outputs": [
    {
     "data": {
      "text/plain": [
       "'los nucleos hibridos fundamentalmente son micronucleos que tienen algo de codigo « no esencial » en espacio de nucleo para que este se ejecute mas rapido de lo que lo haria si estuviera en espacio de usuario.'"
      ]
     },
     "execution_count": 69,
     "metadata": {},
     "output_type": "execute_result"
    }
   ],
   "source": [
    "hmm.restore_accents(accents.strip(\"los núcleos híbridos fundamentalmente son micronúcleos que tienen algo de código « no esencial » en espacio de núcleo para que éste se ejecute más rápido de lo que lo haría si estuviera en espacio de usuario.\"))"
   ]
  }
 ],
 "metadata": {
  "kernelspec": {
   "display_name": "Python 3",
   "language": "python",
   "name": "python3"
  },
  "language_info": {
   "codemirror_mode": {
    "name": "ipython",
    "version": 3
   },
   "file_extension": ".py",
   "mimetype": "text/x-python",
   "name": "python",
   "nbconvert_exporter": "python",
   "pygments_lexer": "ipython3",
   "version": "3.7.0"
  }
 },
 "nbformat": 4,
 "nbformat_minor": 1
}
