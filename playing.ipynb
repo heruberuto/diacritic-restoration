{
 "cells": [
  {
   "cell_type": "code",
   "execution_count": 2,
   "metadata": {},
   "outputs": [
    {
     "name": "stdout",
     "output_type": "stream",
     "text": [
      "[('r', 'r'), ('o', 'o'), ('k', 'k'), ('u', 'u'), (' ', ' '), ('1', '1'), ('5', '5'), ('2', '2'), ('2', '2'), (' ', ' '), ('o', 'o'), ('b', 'b'), ('l', 'l'), ('e', 'é'), ('h', 'h'), ('a', 'a'), ('l', 'l'), (' ', ' '), ('o', 'o'), ('s', 's'), ('m', 'm'), ('a', 'a'), ('n', 'n'), ('s', 's'), ('k', 'k'), ('y', 'ý'), (' ', ' '), ('s', 's'), ('u', 'u'), ('l', 'l'), ('t', 't'), ('a', 'á'), ('n', 'n'), (' ', ' '), ('s', 's'), ('u', 'u'), ('l', 'l'), ('e', 'e'), ('j', 'j'), ('m', 'm'), ('a', 'a'), ('n', 'n'), (' ', ' '), ('i', 'i'), (' ', ' '), ('.', '.'), ('\\n', '\\n')]\n"
     ]
    }
   ],
   "source": [
    "__author__ = 'ssbushi'\n",
    "\n",
    "# Import the toolkit and tags\n",
    "import nltk\n",
    "from nltk.corpus import treebank\n",
    "\n",
    "# Train data - pretagged\n",
    "training = []\n",
    "i=1\n",
    "with open(\"corpora/cs/target_train.txt\", 'r', encoding=\"utf8\") as tag:\n",
    "    with open(\"corpora/cs/target_train.stripped.txt\", \"r\", encoding=\"utf8\") as observation:\n",
    "        while i<100000:\n",
    "            i+=1\n",
    "            tagline = tag.readline()\n",
    "            obsline = observation.readline()\n",
    "            if not tagline or not obsline:\n",
    "                break\n",
    "\n",
    "            if len(tagline) != len(obsline):\n",
    "                print(tagline)\n",
    "                print(obsline)\n",
    "                continue\n",
    "            training.append([(obsline[i], tagline[i]) for i in range(len(obsline))])\n",
    "\n",
    "print(training[0])\n"
   ]
  },
  {
   "cell_type": "code",
   "execution_count": 3,
   "metadata": {},
   "outputs": [
    {
     "name": "stdout",
     "output_type": "stream",
     "text": [
      "<HiddenMarkovModelTagger 13 states and 104 output symbols>\n"
     ]
    }
   ],
   "source": [
    "# Import HMM module\n",
    "from nltk.tag import hmm\n",
    "\n",
    "# Setup a trainer with default(None) values\n",
    "# And train with the data\n",
    "trainer = hmm.HiddenMarkovModelTrainer()\n",
    "tagger = trainer.train_supervised(var)\n",
    "print(tagger)"
   ]
  },
  {
   "cell_type": "code",
   "execution_count": 7,
   "metadata": {
    "scrolled": true
   },
   "outputs": [
    {
     "name": "stdout",
     "output_type": "stream",
     "text": [
      "dobry den.\n"
     ]
    }
   ],
   "source": [
    "import accents\n",
    "print(accents.compose(tagger.tag(\"dobry den.\")))"
   ]
  },
  {
   "cell_type": "code",
   "execution_count": 19,
   "metadata": {},
   "outputs": [],
   "source": [
    "from corpora.diacritization_stripping_data import strip_diacritization_uninames\n",
    "\n",
    "translation_table = str.maketrans(strip_diacritization_uninames)\n"
   ]
  },
  {
   "cell_type": "code",
   "execution_count": 2,
   "metadata": {},
   "outputs": [
    {
     "name": "stdout",
     "output_type": "stream",
     "text": [
      "[('r', ' '), ('h', ' '), ('o', ' '), ('d', ' '), ('o', ' '), ('s', ' '), (' ', ' '), ('(', ' '), ('k', ' '), (' ', ' '), ('d', ' '), ('i', ' '), ('s', ' '), ('p', ' '), ('o', ' '), ('z', ' '), ('i', ' '), ('c', ' '), ('i', ' '), (' ', ' '), ('m', ' '), ('e', 'ˇ'), ('l', ' '), (' ', ' '), ('4', ' '), ('0', ' '), ('0', ' '), (' ', ' '), ('l', ' '), ('o', ' '), ('d', ' '), ('i', '´'), (' ', ' '), ('a', ' '), (' ', ' '), ('2', ' '), ('0', ' '), ('0', ' '), (' ', ' '), ('t', ' '), ('i', ' '), ('s', ' '), ('i', '´'), ('c', ' '), (' ', ' '), ('v', ' '), ('o', ' '), ('j', ' '), ('a', '´'), ('k', ' '), ('u', '˚'), (',', ' '), (' ', ' '), ('z', ' '), ('a', ' '), ('t', ' '), ('i', '´'), ('m', ' '), ('c', ' '), ('o', ' '), (' ', ' '), ('r', 'ˇ'), ('a', '´'), ('d', ' '), (' ', ' '), ('d', ' '), ('i', ' '), ('s', ' '), ('p', ' '), ('o', ' '), ('n', ' '), ('o', ' '), ('v', ' '), ('a', ' '), ('l', ' '), (' ', ' '), ('j', ' '), ('e', ' '), ('n', ' '), (' ', ' '), ('7', ' '), (' ', ' '), ('t', ' '), ('i', ' '), ('s', ' '), ('i', '´'), ('c', ' '), ('i', ' '), (' ', ' '), ('r', ' '), ('y', ' '), ('t', ' '), ('i', '´'), ('r', 'ˇ'), ('i', ' '), (')', ' '), ('.', ' ')]\n"
     ]
    }
   ],
   "source": [
    "import file_system\n",
    "var = file_system.read_tagged(\"corpora/cs/target_train.mini.txt\")\n",
    "print(var[1])"
   ]
  },
  {
   "cell_type": "code",
   "execution_count": 6,
   "metadata": {},
   "outputs": [
    {
     "data": {
      "text/plain": [
       "[('Pierre', 'NNP'),\n",
       " ('Vinken', 'NNP'),\n",
       " (',', ','),\n",
       " ('61', 'CD'),\n",
       " ('years', 'NNS'),\n",
       " ('old', 'JJ'),\n",
       " (',', ','),\n",
       " ('will', 'MD'),\n",
       " ('join', 'VB'),\n",
       " ('the', 'DT'),\n",
       " ('board', 'NN'),\n",
       " ('as', 'IN'),\n",
       " ('a', 'DT'),\n",
       " ('nonexecutive', 'JJ'),\n",
       " ('director', 'NN'),\n",
       " ('Nov.', 'NNP'),\n",
       " ('29', 'CD'),\n",
       " ('.', '.')]"
      ]
     },
     "execution_count": 6,
     "metadata": {},
     "output_type": "execute_result"
    }
   ],
   "source": [
    "from nltk.corpus import treebank\n",
    "\n",
    "# Train data - pretagged\n",
    "train_data = treebank.tagged_sents()[:3000]\n",
    "\n",
    "train_data[0]\n"
   ]
  }
 ],
 "metadata": {
  "kernelspec": {
   "display_name": "Python 3",
   "language": "python",
   "name": "python3"
  },
  "language_info": {
   "codemirror_mode": {
    "name": "ipython",
    "version": 3
   },
   "file_extension": ".py",
   "mimetype": "text/x-python",
   "name": "python",
   "nbconvert_exporter": "python",
   "pygments_lexer": "ipython3",
   "version": "3.7.0"
  }
 },
 "nbformat": 4,
 "nbformat_minor": 1
}
