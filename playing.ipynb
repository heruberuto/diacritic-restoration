{
 "cells": [
  {
   "cell_type": "code",
   "execution_count": 2,
   "metadata": {},
   "outputs": [
    {
     "name": "stdout",
     "output_type": "stream",
     "text": [
      "[('r', 'r'), ('o', 'o'), ('k', 'k'), ('u', 'u'), (' ', ' '), ('1', '1'), ('5', '5'), ('2', '2'), ('2', '2'), (' ', ' '), ('o', 'o'), ('b', 'b'), ('l', 'l'), ('e', 'é'), ('h', 'h'), ('a', 'a'), ('l', 'l'), (' ', ' '), ('o', 'o'), ('s', 's'), ('m', 'm'), ('a', 'a'), ('n', 'n'), ('s', 's'), ('k', 'k'), ('y', 'ý'), (' ', ' '), ('s', 's'), ('u', 'u'), ('l', 'l'), ('t', 't'), ('a', 'á'), ('n', 'n'), (' ', ' '), ('s', 's'), ('u', 'u'), ('l', 'l'), ('e', 'e'), ('j', 'j'), ('m', 'm'), ('a', 'a'), ('n', 'n'), (' ', ' '), ('i', 'i'), (' ', ' '), ('.', '.'), ('\\n', '\\n')]\n"
     ]
    }
   ],
   "source": [
    "__author__ = 'ssbushi'\n",
    "\n",
    "# Import the toolkit and tags\n",
    "import nltk\n",
    "from nltk.corpus import treebank\n",
    "\n",
    "# Train data - pretagged\n",
    "training = []\n",
    "i=1\n",
    "with open(\"corpora/cs/target_train.txt\", 'r', encoding=\"utf8\") as tag:\n",
    "    with open(\"corpora/cs/target_train.stripped.txt\", \"r\", encoding=\"utf8\") as observation:\n",
    "        while i<100000:\n",
    "            i+=1\n",
    "            tagline = tag.readline()\n",
    "            obsline = observation.readline()\n",
    "            if not tagline or not obsline:\n",
    "                break\n",
    "\n",
    "            if len(tagline) != len(obsline):\n",
    "                print(tagline)\n",
    "                print(obsline)\n",
    "                continue\n",
    "            training.append([(obsline[i], tagline[i]) for i in range(len(obsline))])\n",
    "\n",
    "print(training[0])\n"
   ]
  },
  {
   "cell_type": "code",
   "execution_count": 3,
   "metadata": {},
   "outputs": [
    {
     "name": "stdout",
     "output_type": "stream",
     "text": [
      "<HiddenMarkovModelTagger 673 states and 558 output symbols>\n"
     ]
    }
   ],
   "source": [
    "# Import HMM module\n",
    "from nltk.tag import hmm\n",
    "\n",
    "# Setup a trainer with default(None) values\n",
    "# And train with the data\n",
    "trainer = hmm.HiddenMarkovModelTrainer()\n",
    "tagger = trainer.train_supervised(training)\n",
    "print(tagger)"
   ]
  },
  {
   "cell_type": "code",
   "execution_count": 17,
   "metadata": {
    "scrolled": true
   },
   "outputs": [
    {
     "name": "stdout",
     "output_type": "stream",
     "text": [
      "[('m', 'm'), ('e', 'e'), ('n', 'n'), ('e', 'e')]\n"
     ]
    }
   ],
   "source": [
    "print(tagger.tag(\"mene\"))"
   ]
  },
  {
   "cell_type": "code",
   "execution_count": 19,
   "metadata": {},
   "outputs": [],
   "source": [
    "from corpora.diacritization_stripping_data import strip_diacritization_uninames\n",
    "\n",
    "translation_table = str.maketrans(strip_diacritization_uninames)\n"
   ]
  },
  {
   "cell_type": "code",
   "execution_count": 29,
   "metadata": {},
   "outputs": [
    {
     "ename": "MemoryError",
     "evalue": "",
     "output_type": "error",
     "traceback": [
      "\u001b[1;31m---------------------------------------------------------------------------\u001b[0m",
      "\u001b[1;31mMemoryError\u001b[0m                               Traceback (most recent call last)",
      "\u001b[1;31mMemoryError\u001b[0m: ",
      "\nDuring handling of the above exception, another exception occurred:\n",
      "\u001b[1;31mMemoryError\u001b[0m                               Traceback (most recent call last)",
      "\u001b[1;31mMemoryError\u001b[0m: ",
      "\nDuring handling of the above exception, another exception occurred:\n",
      "\u001b[1;31mMemoryError\u001b[0m                               Traceback (most recent call last)",
      "\u001b[1;31mMemoryError\u001b[0m: ",
      "\nDuring handling of the above exception, another exception occurred:\n",
      "\u001b[1;31mMemoryError\u001b[0m                               Traceback (most recent call last)",
      "\u001b[1;32m<ipython-input-29-18d11c467cac>\u001b[0m in \u001b[0;36m<module>\u001b[1;34m\u001b[0m\n\u001b[0;32m      1\u001b[0m \u001b[1;32mimport\u001b[0m \u001b[0mioutpu\u001b[0m\u001b[1;33m\u001b[0m\u001b[0m\n\u001b[1;32m----> 2\u001b[1;33m \u001b[0mvar\u001b[0m \u001b[1;33m=\u001b[0m \u001b[0mioutpu\u001b[0m\u001b[1;33m.\u001b[0m\u001b[0mread_tagged\u001b[0m\u001b[1;33m(\u001b[0m\u001b[1;34m\"corpora/cs/target_train.tagged.txt\"\u001b[0m\u001b[1;33m)\u001b[0m\u001b[1;33m\u001b[0m\u001b[0m\n\u001b[0m\u001b[0;32m      3\u001b[0m \u001b[0mprint\u001b[0m\u001b[1;33m(\u001b[0m\u001b[0mvar\u001b[0m\u001b[1;33m[\u001b[0m\u001b[1;36m1\u001b[0m\u001b[1;33m]\u001b[0m\u001b[1;33m)\u001b[0m\u001b[1;33m\u001b[0m\u001b[0m\n",
      "\u001b[1;31mMemoryError\u001b[0m: "
     ]
    }
   ],
   "source": [
    "import ioutpu\n",
    "var = ioutpu.read_tagged(\"corpora/cs/target_train.tagged.txt\")\n",
    "print(var[1])"
   ]
  }
 ],
 "metadata": {
  "kernelspec": {
   "display_name": "Python 3",
   "language": "python",
   "name": "python3"
  },
  "language_info": {
   "codemirror_mode": {
    "name": "ipython",
    "version": 3
   },
   "file_extension": ".py",
   "mimetype": "text/x-python",
   "name": "python",
   "nbconvert_exporter": "python",
   "pygments_lexer": "ipython3",
   "version": "3.7.0"
  }
 },
 "nbformat": 4,
 "nbformat_minor": 1
}
